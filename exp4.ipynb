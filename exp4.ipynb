import pandas as pd


def find_s_algorithm(data):
    features=data.iloc[:,:-1].values
    target=data.iloc[:, -1].values
    hypothesis=None
    
    for i, row in enumerate(features):
        if target[i]=='Yes':
            hypothesis=list(row)
            break
            
    if hypothesis is None:
        print("No positive examples found in the data")
        return None
    
    for i, row in enumerate(features):
        if target[i]=='Yes':
            for j in range(len(hypothesis)):
                if hypothesis[j]!=row[j]:
                    hypothesis[j]='?'
    return hypothesis


   
data=pd.read_csv('/home/ailab/GAURAV/train.csv')
print("Training data:")
print(data)

hypothesis = find_s_algorithm(data)
if hypothesis is not None:
    print("\nThe final hypothesis is:", hypothesis)
